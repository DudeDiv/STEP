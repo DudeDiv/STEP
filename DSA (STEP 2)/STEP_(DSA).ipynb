{
  "nbformat": 4,
  "nbformat_minor": 0,
  "metadata": {
    "colab": {
      "provenance": [],
      "authorship_tag": "ABX9TyOBRxoRM0fErRtDq0I8dFBC",
      "include_colab_link": true
    },
    "kernelspec": {
      "name": "python3",
      "display_name": "Python 3"
    },
    "language_info": {
      "name": "python"
    }
  },
  "cells": [
    {
      "cell_type": "markdown",
      "metadata": {
        "id": "view-in-github",
        "colab_type": "text"
      },
      "source": [
        "<a href=\"https://colab.research.google.com/github/DudeDiv/STEP/blob/main/STEP_(DSA).ipynb\" target=\"_parent\"><img src=\"https://colab.research.google.com/assets/colab-badge.svg\" alt=\"Open In Colab\"/></a>"
      ]
    },
    {
      "cell_type": "markdown",
      "source": [
        "### ***DAY 1 LAB 1***"
      ],
      "metadata": {
        "id": "9Oedebv4CmSe"
      }
    },
    {
      "cell_type": "markdown",
      "source": [
        "**FACTORIAL**\n",
        "\n",
        "This is a recursive visualizer. Class is used to promote code reuse."
      ],
      "metadata": {
        "id": "03kzNMNoAxBR"
      }
    },
    {
      "cell_type": "code",
      "execution_count": null,
      "metadata": {
        "id": "BG4aoAGi_um7"
      },
      "outputs": [],
      "source": [
        "class RecursionVisualizer:\n",
        "  def __init__(self):\n",
        "    self.indent = 0\n",
        "  def log(self, message):\n",
        "    print(\" \" * self.indent + message)"
      ]
    },
    {
      "cell_type": "markdown",
      "source": [
        "Visualizing Factorial - Top-Down Approach"
      ],
      "metadata": {
        "id": "Q38kgclUBcnU"
      }
    },
    {
      "cell_type": "code",
      "source": [
        "def factorial(self, n):\n",
        "  self.log(f\"factorial({n}) called\")\n",
        "  self.indent += 2\n",
        "  if n==0 or n==1:\n",
        "    self.log(\"Return 1 (base case)\")\n",
        "    self.indent -= 2\n",
        "    return 1\n",
        "  res = n*self.factorial(n-1)\n",
        "  self.indent -= 2\n",
        "  self.log(f\"Return {res} from factorial ({n})\")\n",
        "  return res"
      ],
      "metadata": {
        "id": "52vca165AtVG"
      },
      "execution_count": null,
      "outputs": []
    },
    {
      "cell_type": "markdown",
      "source": [
        "Another method for Visualizing Factorial - Top-Down Approach"
      ],
      "metadata": {
        "id": "HHqbDjQ7B03d"
      }
    },
    {
      "cell_type": "code",
      "source": [
        "def visualize_factorial(self, n):\n",
        "  self.indent = 0\n",
        "  print(f\"\\n--- Visualizing Factorial({n}) ---\")\n",
        "  result = self.factorial(n)\n",
        "  print(f\"Result: {result}\")\n",
        "  return result"
      ],
      "metadata": {
        "id": "9gxiAy8wB5vk"
      },
      "execution_count": null,
      "outputs": []
    },
    {
      "cell_type": "markdown",
      "source": [
        "Visualizing Factorial"
      ],
      "metadata": {
        "id": "JyZlAJOiC5TY"
      }
    },
    {
      "cell_type": "code",
      "source": [
        "class RecursionVisualizer:\n",
        "  def __init__(self):\n",
        "    self.indent = 0\n",
        "  def log(self, message):\n",
        "    print(\" \" * self.indent + message)\n",
        "\n",
        "  def factorial(self, n):\n",
        "    self.log(f\"factorial({n}) called\")\n",
        "    self.indent += 2\n",
        "    if n==0 or n==1:\n",
        "      self.log(\"Return 1 (base case)\")\n",
        "      self.indent -= 2\n",
        "      return 1\n",
        "    res = n*self.factorial(n-1)\n",
        "    self.indent -= 2\n",
        "    self.log(f\"Return {res} from factorial ({n})\")\n",
        "    return res\n",
        "\n",
        "  def visualize_factorial(self, n):\n",
        "    self.indent = 0\n",
        "    print(f\"\\n--- Visualizing Factorial({n}) ---\")\n",
        "    result = self.factorial(n)\n",
        "    print(f\"Result: {result}\")\n",
        "    return result\n",
        "\n",
        "if __name__ == \"__main__\":\n",
        "  visualizer = RecursionVisualizer()\n",
        "  visualizer.visualize_factorial(3)"
      ],
      "metadata": {
        "colab": {
          "base_uri": "https://localhost:8080/"
        },
        "id": "ZnqoQCySC8RJ",
        "outputId": "ae5ee7d0-e9e3-4894-f288-d1f6f7ca5f6f"
      },
      "execution_count": null,
      "outputs": [
        {
          "output_type": "stream",
          "name": "stdout",
          "text": [
            "\n",
            "--- Visualizing Factorial(3) ---\n",
            "factorial(3) called\n",
            "  factorial(2) called\n",
            "    factorial(1) called\n",
            "      Return 1 (base case)\n",
            "  Return 2 from factorial (2)\n",
            "Return 6 from factorial (3)\n",
            "Result: 6\n"
          ]
        }
      ]
    },
    {
      "cell_type": "code",
      "source": [
        "class RecursionVisualizer:\n",
        "  def __init__(self):\n",
        "    self.indent = 0\n",
        "\n",
        "  def log(self, message):\n",
        "    print(\" \" * self.indent + message)\n",
        "\n",
        "  # Define factorial as a method within the class\n",
        "  def factorial(self, n):\n",
        "    self.log(f\"factorial({n}) called\")\n",
        "    self.indent += 2\n",
        "    if n==0 or n==1:\n",
        "      self.log(\"Return 1 (base case)\")\n",
        "      self.indent -= 2\n",
        "      return 1\n",
        "    # Call the factorial method using self.factorial\n",
        "    res = n*self.factorial(n-1)\n",
        "    self.indent -= 2\n",
        "    self.log(f\"Return {res} from factorial ({n})\")\n",
        "    return res\n",
        "\n",
        "  # Define visualize_factorial as a method within the class\n",
        "  def visualize_factorial(self, n):\n",
        "    self.indent = 0\n",
        "    print(f\"\\n--- Visualizing Factorial({n}) ---\")\n",
        "    # Call the factorial method using self.factorial\n",
        "    result = self.factorial(n)\n",
        "    print(f\"Result: {result}\")\n",
        "    return result\n",
        "\n",
        "if __name__ == \"__main__\":\n",
        "  visualizer = RecursionVisualizer()\n",
        "  # Now visualize_factorial is a method of the visualizer object\n",
        "  visualizer.visualize_factorial(3)"
      ],
      "metadata": {
        "colab": {
          "base_uri": "https://localhost:8080/"
        },
        "id": "JvLzBskhD3FF",
        "outputId": "974e98b4-59c2-4382-9a9f-92424aea1641"
      },
      "execution_count": null,
      "outputs": [
        {
          "output_type": "stream",
          "name": "stdout",
          "text": [
            "\n",
            "--- Visualizing Factorial(3) ---\n",
            "factorial(3) called\n",
            "  factorial(2) called\n",
            "    factorial(1) called\n",
            "      Return 1 (base case)\n",
            "  Return 2 from factorial (2)\n",
            "Return 6 from factorial (3)\n",
            "Result: 6\n"
          ]
        }
      ]
    },
    {
      "cell_type": "markdown",
      "source": [
        "**FIBONACCI SERIES**\n",
        "\n",
        "Visualizing Fibonacci - Tree-Shaped Recursion"
      ],
      "metadata": {
        "id": "B-UlF3YvEOfa"
      }
    },
    {
      "cell_type": "code",
      "source": [
        "class RecursionVisualizer:\n",
        "  def __init__(self):\n",
        "    self.indent = 0\n",
        "\n",
        "  def log(self, message):\n",
        "    print(\" \" * self.indent + message)\n",
        "\n",
        "  # Add the fibonacci method\n",
        "  def fibonacci(self, n):\n",
        "    self.log(f\"fibonacci({n}) called\")\n",
        "    self.indent += 2\n",
        "    if n == 0:\n",
        "      self.log(\"Return 0 (base case)\")\n",
        "      self.indent -= 2\n",
        "      return 0\n",
        "    elif n == 1:\n",
        "      self.log(\"Return 1 (base case)\")\n",
        "      self.indent -= 2\n",
        "      return 1\n",
        "    res = self.fibonacci(n-1) + self.fibonacci(n-2)\n",
        "    self.indent -= 2\n",
        "    self.log(f\"Return {res} from fibonacci ({n})\")\n",
        "    return res\n",
        "\n",
        "  # Add the visualize_fibonacci method\n",
        "  def visualize_fibonacci(self, n):\n",
        "    self.indent = 0\n",
        "    print(f\"\\n--- Visualizing Fibonacci({n}) ---\")\n",
        "    result = self.fibonacci(n)\n",
        "    print(f\"Result: {result}\")\n",
        "    return result\n",
        "\n",
        "if __name__ == \"__main__\":\n",
        "  visualizer = RecursionVisualizer()\n",
        "  visualizer.visualize_fibonacci(5) # Example call for Fibonacci"
      ],
      "metadata": {
        "colab": {
          "base_uri": "https://localhost:8080/"
        },
        "id": "M6jPXWgCEXvH",
        "outputId": "8cade057-a8dc-4f5b-f6e4-f3953a554ec6"
      },
      "execution_count": null,
      "outputs": [
        {
          "output_type": "stream",
          "name": "stdout",
          "text": [
            "\n",
            "--- Visualizing Fibonacci(5) ---\n",
            "fibonacci(5) called\n",
            "  fibonacci(4) called\n",
            "    fibonacci(3) called\n",
            "      fibonacci(2) called\n",
            "        fibonacci(1) called\n",
            "          Return 1 (base case)\n",
            "        fibonacci(0) called\n",
            "          Return 0 (base case)\n",
            "      Return 1 from fibonacci (2)\n",
            "      fibonacci(1) called\n",
            "        Return 1 (base case)\n",
            "    Return 2 from fibonacci (3)\n",
            "    fibonacci(2) called\n",
            "      fibonacci(1) called\n",
            "        Return 1 (base case)\n",
            "      fibonacci(0) called\n",
            "        Return 0 (base case)\n",
            "    Return 1 from fibonacci (2)\n",
            "  Return 3 from fibonacci (4)\n",
            "  fibonacci(3) called\n",
            "    fibonacci(2) called\n",
            "      fibonacci(1) called\n",
            "        Return 1 (base case)\n",
            "      fibonacci(0) called\n",
            "        Return 0 (base case)\n",
            "    Return 1 from fibonacci (2)\n",
            "    fibonacci(1) called\n",
            "      Return 1 (base case)\n",
            "  Return 2 from fibonacci (3)\n",
            "Return 5 from fibonacci (5)\n",
            "Result: 5\n"
          ]
        }
      ]
    },
    {
      "cell_type": "markdown",
      "source": [
        "**SUM OF ARRAYS**\n",
        "\n",
        "Visualizing Sum of Array - Index-Based Recursion.\n",
        "This is the base code."
      ],
      "metadata": {
        "id": "jDtPnv3RF6TT"
      }
    },
    {
      "cell_type": "code",
      "source": [
        "def sum_array(arr, index):\n",
        "  if index >= len(arr):\n",
        "    return 0\n",
        "  return arr[index] + sum_array(arr, index+1)"
      ],
      "metadata": {
        "id": "RXHFu77iGAiQ"
      },
      "execution_count": null,
      "outputs": []
    },
    {
      "cell_type": "markdown",
      "source": [
        "Visualizing part\n"
      ],
      "metadata": {
        "id": "qazx50ljGUM0"
      }
    },
    {
      "cell_type": "code",
      "source": [
        "class RecursionVisualizer:\n",
        "  def __init__(self):\n",
        "    self.indent = 0\n",
        "\n",
        "  def log(self, message):\n",
        "    print(\" \" * self.indent + message)\n",
        "\n",
        "  def sum_array(self, arr, index):\n",
        "    self.log(f\"sum_array({arr}, {index}) called\")\n",
        "    self.indent += 2\n",
        "    if index >= len(arr):\n",
        "      self.log(\"Return 0 (base case)\")\n",
        "      self.indent -= 2\n",
        "      return 0\n",
        "    res = arr[index] + self.sum_array(arr, index+1)\n",
        "    self.indent -= 2\n",
        "    self.log(f\"Return {res} from sum_array ({arr}, {index})\")\n",
        "    return res\n",
        "\n",
        "  def visualize_sum_array(self, arr, start_index):\n",
        "    self.indent = 0\n",
        "    print(f\"\\n--- Visualizing Sum of Array({arr}, starting from index {start_index}) ---\")\n",
        "    result = self.sum_array(arr, start_index)\n",
        "    print(f\"Result: {result}\")\n",
        "    return result\n",
        "\n",
        "if __name__ == \"__main__\":\n",
        "  visualizer = RecursionVisualizer()\n",
        "  # Example call for Sum of Array\n",
        "  my_array = [1, 2, 3, 4, 5]\n",
        "  visualizer.visualize_sum_array(my_array, 0)"
      ],
      "metadata": {
        "colab": {
          "base_uri": "https://localhost:8080/"
        },
        "id": "88jj6PthGS7O",
        "outputId": "6f59701c-9813-4ea2-8c79-953cc0ee3160"
      },
      "execution_count": null,
      "outputs": [
        {
          "output_type": "stream",
          "name": "stdout",
          "text": [
            "\n",
            "--- Visualizing Sum of Array([1, 2, 3, 4, 5], starting from index 0) ---\n",
            "sum_array([1, 2, 3, 4, 5], 0) called\n",
            "  sum_array([1, 2, 3, 4, 5], 1) called\n",
            "    sum_array([1, 2, 3, 4, 5], 2) called\n",
            "      sum_array([1, 2, 3, 4, 5], 3) called\n",
            "        sum_array([1, 2, 3, 4, 5], 4) called\n",
            "          sum_array([1, 2, 3, 4, 5], 5) called\n",
            "            Return 0 (base case)\n",
            "        Return 5 from sum_array ([1, 2, 3, 4, 5], 4)\n",
            "      Return 9 from sum_array ([1, 2, 3, 4, 5], 3)\n",
            "    Return 12 from sum_array ([1, 2, 3, 4, 5], 2)\n",
            "  Return 14 from sum_array ([1, 2, 3, 4, 5], 1)\n",
            "Return 15 from sum_array ([1, 2, 3, 4, 5], 0)\n",
            "Result: 15\n"
          ]
        }
      ]
    },
    {
      "cell_type": "markdown",
      "source": [
        "### ***DAY 2 LAB 2***"
      ],
      "metadata": {
        "id": "4Fs538zb1ESw"
      }
    },
    {
      "cell_type": "markdown",
      "source": [
        "Only Time Complexity was discussed"
      ],
      "metadata": {
        "id": "wd4Y-j1bFZF1"
      }
    },
    {
      "cell_type": "markdown",
      "source": [
        "### **DAY 3 LAB 3**"
      ],
      "metadata": {
        "id": "RsnfH-XyFdR1"
      }
    },
    {
      "cell_type": "markdown",
      "source": [
        "Space Complexity, Number Bases, Permutations and Factorials, Sets, Sequence, Subsets, Arithmatic Sequence, Geometric Sequence"
      ],
      "metadata": {
        "id": "lt1l5vyaFmrJ"
      }
    },
    {
      "cell_type": "markdown",
      "source": [
        "### **DAY 4 LAB 4**"
      ],
      "metadata": {
        "id": "6oAPV7u6OHAM"
      }
    },
    {
      "cell_type": "markdown",
      "source": [
        "Introduction to Sorting"
      ],
      "metadata": {
        "id": "g5UUGgx6R14p"
      }
    },
    {
      "cell_type": "code",
      "source": [
        "#TRY IT YOURSELF\n",
        "def sort_list(unsorted_list: list[int]) -> list[int]:\n",
        "  return sorted(unsorted_list) #We were supposed to fill our code here\n",
        "\n",
        "if __name__ == \"__main__\":\n",
        "  unsorted_list = [int(x) for x in input().split()]\n",
        "  res = sort_list(unsorted_list)\n",
        "  print(\" \".join(map(str, res)))"
      ],
      "metadata": {
        "colab": {
          "base_uri": "https://localhost:8080/"
        },
        "id": "YyafCYdTOLyr",
        "outputId": "b7abf3b7-4ea8-47c2-b51f-31144cf66332"
      },
      "execution_count": null,
      "outputs": [
        {
          "output_type": "stream",
          "name": "stdout",
          "text": [
            "1 2 3 4 5 6 7 9 10 8\n",
            "1 2 3 4 5 6 7 8 9 10\n"
          ]
        }
      ]
    },
    {
      "cell_type": "markdown",
      "source": [
        "Types of sorting - Comparison based and non Comparison based"
      ],
      "metadata": {
        "id": "9r1HQW_yZQXt"
      }
    },
    {
      "cell_type": "markdown",
      "source": [
        "### **DAY 5 LAB 5**"
      ],
      "metadata": {
        "id": "U7002LMFYouq"
      }
    },
    {
      "cell_type": "markdown",
      "source": [
        "BUBBLE SORT"
      ],
      "metadata": {
        "id": "AUVn9ycaYtmx"
      }
    },
    {
      "cell_type": "code",
      "source": [
        "def bubble_sort(s):\n",
        "  n = len(s)\n",
        "  for i in range(n):\n",
        "    for j in range(0, n-i-1):\n",
        "      if s[j] > s[j+1]:\n",
        "        s[j], s[j+1] = s[j+1], s[j]\n",
        "  return s\n",
        "\n",
        "if __name__ == \"__main__\":\n",
        "  s = list(map(int, input().split())) #nums = [int(x) for x in input(\"Enter numbers: \").split()]\n",
        "  result = bubble_sort(s)\n",
        "  print(result)"
      ],
      "metadata": {
        "colab": {
          "base_uri": "https://localhost:8080/"
        },
        "id": "fzOAvlHeYsqE",
        "outputId": "ec265850-2ca1-4f87-cd30-b776f9a5b25e"
      },
      "execution_count": null,
      "outputs": [
        {
          "output_type": "stream",
          "name": "stdout",
          "text": [
            "1 3 2 5 4 7 6 9 8 10 0\n",
            "[0, 1, 2, 3, 4, 5, 6, 7, 8, 9, 10]\n"
          ]
        }
      ]
    },
    {
      "cell_type": "markdown",
      "source": [
        "SELECTION SORT"
      ],
      "metadata": {
        "id": "9R86XSZiaDYr"
      }
    },
    {
      "cell_type": "code",
      "source": [
        "def selection_sort(arr):\n",
        "  n = len(arr)\n",
        "  for i in range(n):\n",
        "    min_index = i\n",
        "    for j in range(i+1,n):\n",
        "      if(arr[j] < arr[min_index]):\n",
        "        min_index = j\n",
        "    arr[i], arr[min_index] = arr[min_index], arr[i]\n",
        "  return arr\n",
        "\n",
        "if __name__ == \"__main__\":\n",
        "  arr = [int(x) for x in input(\"Enter numbers: \").split()]\n",
        "  print(\"Selection Sort:\", selection_sort(arr))"
      ],
      "metadata": {
        "colab": {
          "base_uri": "https://localhost:8080/"
        },
        "id": "djh6L4PKb3ey",
        "outputId": "25cea772-3b6b-4b93-aa99-c84d570ef99e"
      },
      "execution_count": null,
      "outputs": [
        {
          "output_type": "stream",
          "name": "stdout",
          "text": [
            "Enter numbers: 9 8 7 6 5 4 3 2 1\n",
            "Selection Sort: [1, 2, 3, 4, 5, 6, 7, 8, 9]\n"
          ]
        }
      ]
    },
    {
      "cell_type": "markdown",
      "source": [
        "MERGE SORT"
      ],
      "metadata": {
        "id": "RqoMkY7EgkkU"
      }
    },
    {
      "cell_type": "code",
      "source": [
        "def merge_sort(arr):\n",
        "  if len(arr)<=1:\n",
        "    return arr\n",
        "\n",
        "  mid = len(arr)//2\n",
        "  left = merge_sort(arr[:mid])\n",
        "  right = merge_sort(arr[mid:])\n",
        "\n",
        "  return merge(left,right)\n",
        "\n",
        "def merge(left, right):\n",
        "  result = []\n",
        "  i = j = 0\n",
        "  while i<len(left) and j<len(right):\n",
        "    if left[i]<right[j]:\n",
        "      result.append(left[i])\n",
        "      i+=1\n",
        "    else:\n",
        "      result.append(right[j])\n",
        "      j+=1\n",
        "\n",
        "  result.extend(left[i:])\n",
        "  result.extend(right[j:])\n",
        "  return result\n",
        "\n",
        "if __name__ == \"__main__\":\n",
        "  arr = [int(x) for x in input(\"Enter the numbers:\").split()]\n",
        "  res = merge_sort(arr)\n",
        "  print(\"Merge Sort:\", res)"
      ],
      "metadata": {
        "colab": {
          "base_uri": "https://localhost:8080/"
        },
        "id": "REKFvK9dglDX",
        "outputId": "8a058d10-8757-4175-aa83-4b2589ea526a"
      },
      "execution_count": null,
      "outputs": [
        {
          "output_type": "stream",
          "name": "stdout",
          "text": [
            "Enter the numbers:9 8 7 6 5 4 3 2 1\n",
            "Merge Sort: [1, 2, 3, 4, 5, 6, 7, 8, 9]\n"
          ]
        }
      ]
    },
    {
      "cell_type": "markdown",
      "source": [
        "### **DAY 6 LAB 6**"
      ],
      "metadata": {
        "id": "_QGXbSEexIcS"
      }
    },
    {
      "cell_type": "markdown",
      "source": [
        "| **Algorithm**         | **Best Case (Time)** | **Average Case (Time)** | **Worst Case (Time)** | **Space Complexity** | **Stable?** | **In-place?** |\n",
        "| --------------------- | -------------------- | ----------------------- | --------------------- | -------------------- | ----------- | ------------- |\n",
        "| **Bubble Sort**       | O(n)                 | O(n²)                   | O(n²)                 | O(1)                 | ✅ Yes       | ✅ Yes         |\n",
        "| **Selection Sort**    | O(n²)                | O(n²)                   | O(n²)                 | O(1)                 | ❌ No        | ✅ Yes         |\n",
        "| **Insertion Sort**    | O(n)                 | O(n²)                   | O(n²)                 | O(1)                 | ✅ Yes       | ✅ Yes         |\n",
        "| **Merge Sort**        | O(n log n)           | O(n log n)              | O(n log n)            | O(n)                 | ✅ Yes       | ❌ No          |\n",
        "| **Quick Sort**        | O(n log n)           | O(n log n)              | O(n²)                 | O(log n)             | ❌ No        | ✅ Yes         |\n",
        "| **Heap Sort**         | O(n log n)           | O(n log n)              | O(n log n)            | O(1)                 | ❌ No        | ✅ Yes         |\n",
        "| **Counting Sort**     | O(n + k)             | O(n + k)                | O(n + k)              | O(k)                 | ✅ Yes       | ❌ No          |\n",
        "| **Radix Sort**        | O(nk)                | O(nk)                   | O(nk)                 | O(n + k)             | ✅ Yes       | ❌ No          |\n",
        "| **Bucket Sort**       | O(n + k)             | O(n + k)                | O(n²)                 | O(n + k)             | ✅ Yes       | ❌ No          |\n",
        "| **Tim Sort** (Python) | O(n)                 | O(n log n)              | O(n log n)            | O(n)                 | ✅ Yes       | ❌ No          |\n"
      ],
      "metadata": {
        "id": "DwwZOkxY012v"
      }
    },
    {
      "cell_type": "markdown",
      "source": [
        "Quick Sort - with pivot as the starting element"
      ],
      "metadata": {
        "id": "urgSG4HjlEr6"
      }
    },
    {
      "cell_type": "code",
      "source": [
        "def quick_sort(arr):\n",
        "  if len(arr) <= 1:\n",
        "    return arr\n",
        "\n",
        "  pivot = arr[0]\n",
        "\n",
        "  left = [x for x in arr[1:] if x<=pivot]\n",
        "  right = [x for x in arr[1:] if x>pivot]\n",
        "\n",
        "  return quick_sort(left) + [pivot] + quick_sort(right)\n",
        "\n",
        "if __name__ == \"__main__\":\n",
        "  arr = [int(x) for x in input(\"Enter the numbers:\").split()]\n",
        "  res = quick_sort(arr)\n",
        "  print(\"Quick Sort:\", res)"
      ],
      "metadata": {
        "colab": {
          "base_uri": "https://localhost:8080/"
        },
        "id": "pO9i2l1Uzcow",
        "outputId": "e8a3c385-6e53-4e06-80b4-6ade6abcd5a2"
      },
      "execution_count": null,
      "outputs": [
        {
          "output_type": "stream",
          "name": "stdout",
          "text": [
            "Enter the numbers:12 14 10 3 5 200 22 1 14 55 6\n",
            "Quick Sort: [1, 3, 5, 6, 10, 12, 14, 14, 22, 55, 200]\n"
          ]
        }
      ]
    },
    {
      "cell_type": "markdown",
      "source": [
        "Quick Sort - with pivot as the middle element"
      ],
      "metadata": {
        "id": "a_5opr_K4oCJ"
      }
    },
    {
      "cell_type": "code",
      "source": [
        "def quick_sort(arr):\n",
        "  if len(arr) <= 1:\n",
        "    return arr\n",
        "\n",
        "  pivot_index = len(arr)//2\n",
        "  pivot = arr[pivot_index]\n",
        "\n",
        "  #left = [x for x in arr[:pivot_index] + arr[pivot_index+1:] if x<=pivot]\n",
        "  #right = [x for x in arr[:pivot_index] + arr[pivot_index+1:] if x>pivot]\n",
        "\n",
        "  left = []\n",
        "  right = []\n",
        "\n",
        "  for i in range(len(arr)):\n",
        "    if(i == pivot_index):\n",
        "      continue\n",
        "    elif(arr[i] < pivot):\n",
        "      left.append(arr[i])\n",
        "    else:\n",
        "      right.append(arr[i])\n",
        "\n",
        "  return quick_sort(left) + [pivot] + quick_sort(right)\n",
        "\n",
        "if __name__ == \"__main__\":\n",
        "  arr = [int(x) for x in input(\"Enter numbers: \").split()]\n",
        "  res = quick_sort(arr)\n",
        "  print(\"Quick Sort:\", res)"
      ],
      "metadata": {
        "colab": {
          "base_uri": "https://localhost:8080/"
        },
        "id": "F-bM7hkY4tBo",
        "outputId": "6a43be31-1659-4fdb-ec7e-bcc063d1abfa"
      },
      "execution_count": null,
      "outputs": [
        {
          "output_type": "stream",
          "name": "stdout",
          "text": [
            "Enter numbers: 6 4 2 5 1 0 3\n",
            "Quick Sort: [0, 1, 2, 3, 4, 5, 6]\n"
          ]
        }
      ]
    },
    {
      "cell_type": "markdown",
      "source": [
        "Quick Sort - with pivot as the last element"
      ],
      "metadata": {
        "id": "YO_DaQAU94qw"
      }
    },
    {
      "cell_type": "code",
      "source": [
        "def quick_sort(arr):\n",
        "    if len(arr) <= 1:\n",
        "        return arr\n",
        "\n",
        "    pivot = arr[-1]  # 🔹 Last element as pivot\n",
        "    left = []\n",
        "    right = []\n",
        "\n",
        "    for i in range(len(arr) - 1):  # Exclude the pivot\n",
        "        if arr[i] <= pivot:\n",
        "            left.append(arr[i])\n",
        "        else:\n",
        "            right.append(arr[i])\n",
        "\n",
        "    return quick_sort(left) + [pivot] + quick_sort(right)\n",
        "\n",
        "if __name__ == \"__main__\":\n",
        "    arr = [int(x) for x in input(\"Enter numbers: \").split()]\n",
        "    sorted_arr = quick_sort(arr)\n",
        "    print(\"Sorted Array:\", sorted_arr)"
      ],
      "metadata": {
        "colab": {
          "base_uri": "https://localhost:8080/"
        },
        "id": "_Wnl5HIw9-HK",
        "outputId": "43a185af-7fe1-436e-a868-508e19f483ce"
      },
      "execution_count": null,
      "outputs": [
        {
          "output_type": "stream",
          "name": "stdout",
          "text": [
            "Enter numbers: 7 8 9 4 5 6 1 2 3\n",
            "Sorted Array: [1, 2, 3, 4, 5, 6, 7, 8, 9]\n"
          ]
        }
      ]
    },
    {
      "cell_type": "markdown",
      "source": [
        "Binary Search (With Insertion Sort)\n",
        "Use Tim Sort [sorted(arr)] for the most efficient answer."
      ],
      "metadata": {
        "id": "MWZtLfh9IzUW"
      }
    },
    {
      "cell_type": "code",
      "source": [
        "def insertion_sort(arr):\n",
        "  for i in range(1, len(arr)):\n",
        "    key = arr[i]\n",
        "    j = i-1\n",
        "\n",
        "    while j>=0 and arr[j] > key:\n",
        "      arr[j+1] = arr[j]\n",
        "      j -= 1\n",
        "\n",
        "    arr[j+1] = key\n",
        "  return arr\n",
        "\n",
        "def binary_search(arr, target):\n",
        "  low = 0\n",
        "  high = len(arr) - 1\n",
        "\n",
        "  while low <= high:\n",
        "    mid = (low+high)//2\n",
        "\n",
        "    if arr[mid] == target:\n",
        "      return mid\n",
        "    elif arr[mid] < target:\n",
        "      low = mid+1\n",
        "    else:\n",
        "      high = mid-1\n",
        "\n",
        "  return -1\n",
        "\n",
        "if __name__ == \"__main__\":\n",
        "  arr = [int(x) for x in input(\"Enter the elements: \").split()]\n",
        "  target = int(input(\"Enter the target/search value: \"))\n",
        "\n",
        "  sorted_arr = insertion_sort(arr)\n",
        "  print(\"Sorted array:\", sorted_arr)\n",
        "\n",
        "  result = binary_search(sorted_arr, target)\n",
        "\n",
        "  if result != -1:\n",
        "    print(f\"Element found at index {result}\")\n",
        "  else:\n",
        "    print(\"Element not found\")"
      ],
      "metadata": {
        "colab": {
          "base_uri": "https://localhost:8080/"
        },
        "id": "Gwr_lSQoI5ID",
        "outputId": "b34c5947-7422-41ac-80ba-07a0de6cc2c6"
      },
      "execution_count": null,
      "outputs": [
        {
          "output_type": "stream",
          "name": "stdout",
          "text": [
            "Enter the elements: 4 5 6 1 2 3 7 8 9 10 11 12 -1 -2 -3\n",
            "Enter the target/search value: 10\n",
            "Sorted array: [-3, -2, -1, 1, 2, 3, 4, 5, 6, 7, 8, 9, 10, 11, 12]\n",
            "Element found at index 12\n"
          ]
        }
      ]
    },
    {
      "cell_type": "markdown",
      "source": [
        "ADL - 1st question"
      ],
      "metadata": {
        "id": "sX-h07-ZgAXH"
      }
    },
    {
      "cell_type": "code",
      "source": [
        "def lower_bound(nums, value):\n",
        "    \"\"\"Finds the first index where nums[i] >= value\"\"\"\n",
        "    left, right = 0, len(nums)\n",
        "    while left < right:\n",
        "        mid = (left + right) // 2\n",
        "        if nums[mid] < value:\n",
        "            left = mid + 1\n",
        "        else:\n",
        "            right = mid\n",
        "    return left\n",
        "\n",
        "def upper_bound(nums, value):\n",
        "    \"\"\"Finds the last index where nums[i] <= value\"\"\"\n",
        "    left, right = 0, len(nums)\n",
        "    while left < right:\n",
        "        mid = (left + right) // 2\n",
        "        if nums[mid] <= value:\n",
        "            left = mid + 1\n",
        "        else:\n",
        "            right = mid\n",
        "    return left - 1\n",
        "\n",
        "def find_subarray_within_diff(nums, target, diff):\n",
        "    low = target - diff\n",
        "    high = target + diff\n",
        "\n",
        "    start = lower_bound(nums, low)\n",
        "    end = upper_bound(nums, high)\n",
        "\n",
        "    if start <= end:\n",
        "        return [start, end]\n",
        "    else:\n",
        "        return [-1, -1]\n",
        "\n",
        "if __name__ == \"__main__\":\n",
        "    nums = [int(x) for x in input(\"Enter sorted array: \").split()]\n",
        "    target = int(input(\"Enter target: \"))\n",
        "    diff = int(input(\"Enter diff: \"))\n",
        "\n",
        "    result = find_subarray_within_diff(nums, target, diff)\n",
        "    print(\"Output:\", result)\n"
      ],
      "metadata": {
        "colab": {
          "base_uri": "https://localhost:8080/"
        },
        "id": "LPQensJugCRM",
        "outputId": "3754b761-b40c-4aaa-dc8d-8af74afad2de"
      },
      "execution_count": null,
      "outputs": [
        {
          "output_type": "stream",
          "name": "stdout",
          "text": [
            "Enter sorted array: 1 1 1 1\n",
            "Enter target: 1\n",
            "Enter diff: 0\n",
            "Output: [0, 3]\n"
          ]
        }
      ]
    },
    {
      "cell_type": "markdown",
      "source": [
        "ADL - 2nd Question"
      ],
      "metadata": {
        "id": "d6VHHgY_1A9v"
      }
    },
    {
      "cell_type": "code",
      "source": [
        "def roman_to_integer(s):\n",
        "    roman_map = {\n",
        "        'I': 1,\n",
        "        'V': 5,\n",
        "        'X': 10,\n",
        "        'L': 50,\n",
        "        'C': 100,\n",
        "        'D': 500,\n",
        "        'M': 1000\n",
        "    }\n",
        "\n",
        "    total = 0\n",
        "    prev_value = 0\n",
        "\n",
        "    for char in reversed(s):\n",
        "        curr_value = roman_map[char]\n",
        "        if curr_value < prev_value:\n",
        "            total -= curr_value  # subtractive notation\n",
        "        else:\n",
        "            total += curr_value  # normal addition\n",
        "        prev_value = curr_value\n",
        "\n",
        "    return total\n",
        "\n",
        "if __name__ == \"__main__\":\n",
        "    roman = input(\"Enter a Roman numeral: \")\n",
        "    result = roman_to_integer(roman)\n",
        "    print(\"Integer value:\", result)\n"
      ],
      "metadata": {
        "colab": {
          "base_uri": "https://localhost:8080/"
        },
        "id": "Pe3vqIlN1D-c",
        "outputId": "f34ee2d3-ce1b-476e-a166-7b0e7dda3a4c"
      },
      "execution_count": null,
      "outputs": [
        {
          "output_type": "stream",
          "name": "stdout",
          "text": [
            "Enter a Roman numeral: MMXC\n",
            "Integer value: 2090\n"
          ]
        }
      ]
    },
    {
      "cell_type": "markdown",
      "source": [
        "ADL - 3rd Question"
      ],
      "metadata": {
        "id": "69vwT7Dk1O-B"
      }
    },
    {
      "cell_type": "code",
      "source": [
        "def length_of_longest_substring_two_distinct(s: str) -> int:\n",
        "    from collections import defaultdict\n",
        "\n",
        "    left = 0\n",
        "    max_len = 0\n",
        "    char_count = defaultdict(int)\n",
        "\n",
        "    for right in range(len(s)):\n",
        "        char_count[s[right]] += 1\n",
        "\n",
        "        # If we have more than 2 distinct characters, shrink the window\n",
        "        while len(char_count) > 2:\n",
        "            char_count[s[left]] -= 1\n",
        "            if char_count[s[left]] == 0:\n",
        "                del char_count[s[left]]\n",
        "            left += 1\n",
        "\n",
        "        # Update max length\n",
        "        max_len = max(max_len, right - left + 1)\n",
        "\n",
        "    return max_len\n",
        "\n",
        "if __name__ == \"__main__\":\n",
        "    s = input(\"Enter the string: \")\n",
        "    result = length_of_longest_substring_two_distinct(s)\n",
        "    print(\"Longest valid substring length:\", result)\n"
      ],
      "metadata": {
        "colab": {
          "base_uri": "https://localhost:8080/"
        },
        "id": "_PfJ6JdeDeQa",
        "outputId": "00addf6f-167b-4971-f951-f8abf3c04bbd"
      },
      "execution_count": null,
      "outputs": [
        {
          "output_type": "stream",
          "name": "stdout",
          "text": [
            "Enter the string: aaaccceeebbbfffabgbhhggghhh\n",
            "Longest valid substring length: 8\n"
          ]
        }
      ]
    }
  ]
}
